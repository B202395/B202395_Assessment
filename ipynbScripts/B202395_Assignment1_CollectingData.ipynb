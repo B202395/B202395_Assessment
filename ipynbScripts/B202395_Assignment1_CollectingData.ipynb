{
 "cells": [
  {
   "cell_type": "markdown",
   "id": "pleased-absolute",
   "metadata": {
    "slideshow": {
     "slide_type": "subslide"
    }
   },
   "source": [
    "##### Title: Collecting data using interactive Jupyter widgets\\\n",
    "**Author:** B202395, *Contact details:* B202395\\\n",
    "**Notebook and data info:** This Notebook provides the code to collect the NHS England accident and emergency attendances and admissions (ae_attendances) data for University Hospitals of Leicester NHS Trust using interactive jupyter-widgets.\\\n",
    "**Data:** Data consists of date (period), numerical data (attendances, breaches, performance) and character data (type) from the subset of data from the NHSRdatasets package. \n",
    "\n",
    "# Data\n",
    "The NHS England accident and emergency attendances and admissions data for University Hospitals of Leicester NHS Trust was extracted and partitioned into test and training data in R. Python in Jupyter was used for the data collection. The interactive Jupyter-widgets from *ipywidgets* package was used to collect the relevant data types from the test data."
   ]
  },
  {
   "cell_type": "markdown",
   "id": "gentle-albany",
   "metadata": {},
   "source": [
    "## Preparing for data collection and creating the data frame"
   ]
  },
  {
   "cell_type": "code",
   "execution_count": null,
   "id": "frozen-attendance",
   "metadata": {
    "tags": [
     "remove_cell"
    ]
   },
   "outputs": [],
   "source": [
    "#The training dataset created in R is loaded into Python.\n",
    "#Load the 'pandas' package\n",
    "import pandas as pd\n",
    "testDatarwe=pd.read_csv(\"../Data/aerwe_attendances_4hr_perform_test.csv\")\n",
    "testDatarwe\n",
    "#Checking the data type so we know what is required when creating the empty data frame\n",
    "result = testDatarwe.dtypes\n",
    "print(\"Output:\")\n",
    "print(result)"
   ]
  },
  {
   "cell_type": "code",
   "execution_count": null,
   "id": "residential-index",
   "metadata": {
    "tags": [
     "hide-input"
    ]
   },
   "outputs": [],
   "source": [
    "#An empty data frame is required in the working data folder to collect the data captured by the Juypter widgets.\n",
    "#Setting up an empty data frame in the working data folder for collection of the data via Jupyter widgets\n",
    "dfTofillrwe = pd.DataFrame({'index': [0],# Integer\n",
    "                   'period': [pd.Timestamp('20000101')], # Date\n",
    "                   'type': ['NA'], # String\n",
    "                   'attendances': [0], # Integer\n",
    "                   'breaches': [0], # Integer\n",
    "                   'performance': [0.0], # Float\n",
    "                   'consent': [False]}) # Boolean \n",
    "dfTofillrwe"
   ]
  },
  {
   "cell_type": "code",
   "execution_count": null,
   "id": "animated-envelope",
   "metadata": {
    "tags": [
     "hide-input"
    ]
   },
   "outputs": [],
   "source": [
    "#An empty data frame is saved in the working 'Data' folder (this step only needs to be done once):\n",
    "#dfTofillrwe.to_csv('../Data/CollectedDatarwe.csv', index=False)"
   ]
  },
  {
   "cell_type": "code",
   "execution_count": null,
   "id": "quantitative-wholesale",
   "metadata": {},
   "outputs": [],
   "source": [
    "#Reading in the empty data frame to collect the data from the Jupyter-widgets\n",
    "CollectDatarwe=pd.read_csv(\"../Data/CollectedDatarwe.csv\")\n",
    "CollectDatarwe"
   ]
  },
  {
   "cell_type": "code",
   "execution_count": null,
   "id": "unsigned-testament",
   "metadata": {},
   "outputs": [],
   "source": [
    "#To view the test data\n",
    "print(testDatarwe)"
   ]
  },
  {
   "cell_type": "markdown",
   "id": "loose-password",
   "metadata": {},
   "source": [
    "There are 10 rows and 6 columns of test data."
   ]
  },
  {
   "cell_type": "markdown",
   "id": "sealed-chemistry",
   "metadata": {},
   "source": [
    "## Indexing \n",
    "The first variable (index) in the test data is to link it back to the original dataset \"../RawData/ae_attendances.csv\". \n",
    "Indexing is added to the 'dfTofill' file to enable identification of individual entries by its position for selection of specific elements of choice. Indexing in Python starts with the count of zero (\"zero-indexed\")."
   ]
  },
  {
   "cell_type": "code",
   "execution_count": null,
   "id": "entire-soundtrack",
   "metadata": {},
   "outputs": [],
   "source": [
    "#This line of code specifies the entry for selection/entry of interest\n",
    "index_number=11425 #Changed for each record.\n",
    "dfTofillrwe.iloc[0,0]=index_number\n",
    "dfTofillrwe"
   ]
  },
  {
   "cell_type": "markdown",
   "id": "attempted-understanding",
   "metadata": {},
   "source": [
    "# Widgets\n",
    "Python widgets are interactive browser controls that can be embedded into Jupyter Notebook to enable user engagement. \n",
    "The *ipywidgets* package and *IPython.display* package were used."
   ]
  },
  {
   "cell_type": "code",
   "execution_count": null,
   "id": "accredited-contrary",
   "metadata": {},
   "outputs": [],
   "source": [
    "#Loading the 'ipywidgets' package\n",
    "import ipywidgets as widgets\n",
    "\n",
    "#Loading the 'IPython.display' package\n",
    "from IPython.display import display"
   ]
  },
  {
   "cell_type": "markdown",
   "id": "covered-effects",
   "metadata": {},
   "source": [
    "## Creating the widgets\n",
    "Each of these fields (consent, period, type, attendancs, breaches and performance) will require a separate widget to enable user input of the data."
   ]
  },
  {
   "cell_type": "markdown",
   "id": "ordered-jordan",
   "metadata": {},
   "source": [
    "## Consent\n",
    "\n",
    "Consent will be captured using a checkbox widget to record the Boolean (True/False) data subject consent status to ensure compliance with General Data Protection Regulation (GDPR)."
   ]
  },
  {
   "cell_type": "code",
   "execution_count": null,
   "id": "compact-worship",
   "metadata": {
    "tags": [
     "hide-input"
    ]
   },
   "outputs": [],
   "source": [
    "##Checkbox widget to capture consent values (Boolean - True/False)\n",
    "a = widgets.Checkbox(\n",
    "    value=False,\n",
    "    description='I consent for the data I have provided to be processed and shared in accordance with data protection regulations with the purpose of improving care service provision across the UK.',\n",
    "    disabled=False)\n",
    "display(a)"
   ]
  },
  {
   "cell_type": "code",
   "execution_count": null,
   "id": "comfortable-lighter",
   "metadata": {},
   "outputs": [],
   "source": [
    "#Add consent as the 6th column of the data frame\n",
    "dfTofillrwe.iloc[0,6]=a.value\n",
    "dfTofillrwe"
   ]
  },
  {
   "cell_type": "markdown",
   "id": "reported-arrest",
   "metadata": {},
   "source": [
    "## The period variable  \n",
    "The period variable is stored as a date (1st of each month). "
   ]
  },
  {
   "cell_type": "code",
   "execution_count": null,
   "id": "higher-framework",
   "metadata": {},
   "outputs": [],
   "source": [
    "#Checking the data type for 'period'\n",
    "print(result[1])"
   ]
  },
  {
   "cell_type": "markdown",
   "id": "mature-persian",
   "metadata": {},
   "source": [
    "The data type object is a string."
   ]
  },
  {
   "cell_type": "markdown",
   "id": "interpreted-cooper",
   "metadata": {},
   "source": [
    "### DatePicker widget \n",
    "The DatePicker widget will be used to collect the period data."
   ]
  },
  {
   "cell_type": "code",
   "execution_count": null,
   "id": "coastal-delivery",
   "metadata": {},
   "outputs": [],
   "source": [
    "#This code creates the widget to collect the period data for the index selected in section 1.5\n",
    "b = widgets.DatePicker(\n",
    "    description='Period',\n",
    "    disabled=False)\n",
    "display(b)"
   ]
  },
  {
   "cell_type": "code",
   "execution_count": null,
   "id": "touched-donor",
   "metadata": {
    "tags": [
     "hide-input"
    ]
   },
   "outputs": [],
   "source": [
    "#This code is to ensure that the period (date) information entered in the previous step is populated in the period column\n",
    "dfTofillrwe.iloc[0,1]=b.value\n",
    "dfTofillrwe"
   ]
  },
  {
   "cell_type": "markdown",
   "id": "desirable-convenience",
   "metadata": {},
   "source": [
    "## Type variable\n",
    "As noted in section 1.3, type is a data type object. The data type object is a string. "
   ]
  },
  {
   "cell_type": "code",
   "execution_count": null,
   "id": "south-worse",
   "metadata": {},
   "outputs": [],
   "source": [
    "#Checking the data type for 'type'\n",
    "print(result[2])\n",
    "#String data type"
   ]
  },
  {
   "cell_type": "code",
   "execution_count": null,
   "id": "fantastic-despite",
   "metadata": {},
   "outputs": [],
   "source": [
    "#The `unique()` function from the *pandas* package is used to obtain the list of unique department types in the test data.\n",
    "type=list(testDatarwe['type'].unique())\n",
    "type\n",
    "#'other','2', '1'"
   ]
  },
  {
   "cell_type": "markdown",
   "id": "legendary-reading",
   "metadata": {},
   "source": [
    "The RadioButtons widget will be used to collect data for the 'type' variable."
   ]
  },
  {
   "cell_type": "code",
   "execution_count": null,
   "id": "virgin-commonwealth",
   "metadata": {},
   "outputs": [],
   "source": [
    "#Creating the radio button for the user to input the 'type' data for the index selected in section 1.5\n",
    "c=widgets.RadioButtons(\n",
    "    options=type,\n",
    "    description='Type:',\n",
    "    disabled=False)\n",
    "display(c)"
   ]
  },
  {
   "cell_type": "code",
   "execution_count": null,
   "id": "eleven-penetration",
   "metadata": {},
   "outputs": [],
   "source": [
    "#This code is to ensure that the 'type' information entered in the previous step is populated in the 'type' column\n",
    "dfTofillrwe.iloc[0,2]=c.value\n",
    "dfTofillrwe"
   ]
  },
  {
   "cell_type": "markdown",
   "id": "auburn-correspondence",
   "metadata": {},
   "source": [
    "## Attendances variable\n",
    "The attendances variable includes the number of attendances for this department type at this organisation for this month. "
   ]
  },
  {
   "cell_type": "code",
   "execution_count": null,
   "id": "conditional-channels",
   "metadata": {},
   "outputs": [],
   "source": [
    "#Checking the data type for 'attendances'\n",
    "print(result[3])"
   ]
  },
  {
   "cell_type": "markdown",
   "id": "civil-excess",
   "metadata": {},
   "source": [
    "IntText from the ipywidgets is used to enable the inputting of the numeric value of the attendances variable. "
   ]
  },
  {
   "cell_type": "code",
   "execution_count": null,
   "id": "coupled-optimum",
   "metadata": {},
   "outputs": [],
   "source": [
    "#Creating the IntText widget for the user to input the 'attendances' data for the index selected in section 1.5\n",
    "d=widgets.IntText(\n",
    "    value=0,\n",
    "    description='Attendances:',\n",
    "    disabled=False)\n",
    "display(d)"
   ]
  },
  {
   "cell_type": "code",
   "execution_count": null,
   "id": "metallic-token",
   "metadata": {},
   "outputs": [],
   "source": [
    "#This code is to ensure that the 'attendances' information from the previous step is populated in the 'attendance' column\n",
    "dfTofillrwe.iloc[0,3]=d.value\n",
    "dfTofillrwe"
   ]
  },
  {
   "cell_type": "markdown",
   "id": "radio-cross",
   "metadata": {},
   "source": [
    "## Breaches variable\n",
    "The breaches variable records the number of attendances that breached the four hour target. "
   ]
  },
  {
   "cell_type": "code",
   "execution_count": null,
   "id": "original-obligation",
   "metadata": {},
   "outputs": [],
   "source": [
    "#Checking the data type for 'breaches'\n",
    "print(result[4])"
   ]
  },
  {
   "cell_type": "markdown",
   "id": "particular-female",
   "metadata": {},
   "source": [
    "IntText from the ipywidgets is used to enable the inputting of the numeric value of the breaches variable. "
   ]
  },
  {
   "cell_type": "code",
   "execution_count": null,
   "id": "irish-renewal",
   "metadata": {},
   "outputs": [],
   "source": [
    "#Creating the IntText widget for the user to input the 'breaches' data for the index selected in section 1.5\n",
    "e=widgets.IntText(\n",
    "    value=0,\n",
    "    description='Breaches:',\n",
    "    disabled=False)\n",
    "display(e)"
   ]
  },
  {
   "cell_type": "code",
   "execution_count": null,
   "id": "filled-ballet",
   "metadata": {},
   "outputs": [],
   "source": [
    "#This code is to ensure that the 'breaches' information entered in the previous step is populated in the breaches column\n",
    "dfTofillrwe.iloc[0,4]=e.value\n",
    "dfTofillrwe"
   ]
  },
  {
   "cell_type": "markdown",
   "id": "indirect-hardware",
   "metadata": {},
   "source": [
    "## Performance variable\n",
    "The performance variable was calculated as (1 - breaches)/ attendances. "
   ]
  },
  {
   "cell_type": "code",
   "execution_count": null,
   "id": "rolled-workstation",
   "metadata": {},
   "outputs": [],
   "source": [
    "#Checking the data type for 'performance'\n",
    "print(result[5])"
   ]
  },
  {
   "cell_type": "markdown",
   "id": "imported-uniform",
   "metadata": {},
   "source": [
    "FloatText from the ipywidgets is used to enable the inputting of the float value of the performance variable. "
   ]
  },
  {
   "cell_type": "code",
   "execution_count": null,
   "id": "crazy-sleep",
   "metadata": {},
   "outputs": [],
   "source": [
    "#Creating the IntText widget for the user to input the 'performance' data for the index selected in section 1.5\n",
    "f=widgets.FloatText(\n",
    "    value=0.0,\n",
    "    description='Performance:',\n",
    "    disabled=False)\n",
    "display(f)"
   ]
  },
  {
   "cell_type": "code",
   "execution_count": null,
   "id": "personal-pixel",
   "metadata": {},
   "outputs": [],
   "source": [
    "dfTofillrwe.iloc[0,5]=f.value\n",
    "dfTofillrwe"
   ]
  },
  {
   "cell_type": "markdown",
   "id": "concerned-algeria",
   "metadata": {},
   "source": [
    "# Concatenating the collected data to the CollectDatarwe data frame   "
   ]
  },
  {
   "cell_type": "code",
   "execution_count": null,
   "id": "reserved-tomato",
   "metadata": {},
   "outputs": [],
   "source": [
    "#The `concat()` function from the *pandas* package is used to append the CollectDatarwe to dfTofillrwe data frames.\n",
    "# CollectDatarwe is the first data frame, dfTofillrwe is the second data frame\n",
    "CollectDatarwe  = pd.concat([CollectDatarwe, dfTofillrwe])\n",
    "display(CollectDatarwe)"
   ]
  },
  {
   "cell_type": "code",
   "execution_count": null,
   "id": "worthy-vegetarian",
   "metadata": {},
   "outputs": [],
   "source": [
    "#The code below checks that consent has been obtained before it is saved into the working data folder.\n",
    "CollectDatarwe=CollectDatarwe[CollectDatarwe['consent'] == True]\n",
    "display(CollectDatarwe)"
   ]
  },
  {
   "cell_type": "markdown",
   "id": "above-league",
   "metadata": {},
   "source": [
    "## Saving the CollectDatarwe data frame"
   ]
  },
  {
   "cell_type": "code",
   "execution_count": null,
   "id": "undefined-bristol",
   "metadata": {},
   "outputs": [],
   "source": [
    "#Saving the data collected by the data-capture tool to the 'Data' folder:\n",
    "CollectDatarwe.to_csv('../Data/CollectedDatarwe.csv', index=False)"
   ]
  },
  {
   "cell_type": "code",
   "execution_count": null,
   "id": "integral-basketball",
   "metadata": {},
   "outputs": [],
   "source": [
    "#The process is repeated until all the data has been captured from the test data. \n",
    "#Once that is completed, the data is saved in the 'RawData' folder.\n",
    "CollectDatarwe.to_csv('../RawData/CollectedDatarweFinal.csv', index=False)"
   ]
  }
 ],
 "metadata": {
  "kernelspec": {
   "display_name": "Python 3 (ipykernel)",
   "language": "python",
   "name": "python3"
  },
  "language_info": {
   "codemirror_mode": {
    "name": "ipython",
    "version": 3
   },
   "file_extension": ".py",
   "mimetype": "text/x-python",
   "name": "python",
   "nbconvert_exporter": "python",
   "pygments_lexer": "ipython3",
   "version": "3.9.2"
  }
 },
 "nbformat": 4,
 "nbformat_minor": 5
}
